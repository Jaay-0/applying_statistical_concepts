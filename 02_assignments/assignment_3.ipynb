{
 "cells": [
  {
   "cell_type": "markdown",
   "id": "7b0bcac6-5086-4f4e-928a-570a9ff7ae58",
   "metadata": {},
   "source": [
    "# Assignment 3"
   ]
  },
  {
   "cell_type": "markdown",
   "id": "5fce0350-2a17-4e93-8d4c-0b8748fdfc32",
   "metadata": {},
   "source": [
    "As before, if a question can be answered with 'yes/no', or a numeric value, you may simply state as much. If you incorporate code from the internet (which is not required and generally not advisable), please cite the source within your code (providing a URL is sufficient).\n",
    "\n",
    "We will go through comparable code and concepts in the live learning session. If you run into trouble, start by using the help `help()` function in Python, to get information about the datasets and function in question. The internet is also a great resource when coding (though note that no outside searches are required by the assignment!). If you do incorporate code from the internet, please cite the source within your code (providing a URL is sufficient).\n",
    "\n",
    "Please bring questions that you cannot work out on your own to office hours, work periods or share with your peers on Slack. We will work with you through the issue."
   ]
  },
  {
   "cell_type": "code",
   "execution_count": 36,
   "id": "b92f7c91",
   "metadata": {},
   "outputs": [],
   "source": [
    "import numpy as np\n",
    "import pandas as pd\n",
    "import matplotlib.pyplot as plt\n",
    "import statsmodels.api as sm"
   ]
  },
  {
   "cell_type": "markdown",
   "id": "d7fff1dd-e4ce-4a60-96a0-d08136e9bf5e",
   "metadata": {},
   "source": [
    "### Question 1: Resampling via Bootstrapping\n",
    "\n",
    "Now, we'll use the `iris` dataset, which we will add to Python using the `statsmodels` library. As always, start by reviewing a description of the dataset, by printing the dataset."
   ]
  },
  {
   "cell_type": "code",
   "execution_count": 37,
   "id": "47f4dcf5-0d4c-41ea-892d-d9f2c1aa1859",
   "metadata": {},
   "outputs": [],
   "source": [
    "# Import\n",
    "iris = sm.datasets.get_rdataset('iris', 'datasets')\n",
    "df = pd.DataFrame(iris.data)"
   ]
  },
  {
   "cell_type": "markdown",
   "id": "7717a32c",
   "metadata": {},
   "source": [
    "_(i)_ Create an `alpha_func(D, idx)` function which takes the `Sepal`'s `width` and `length` to calculate for alpha"
   ]
  },
  {
   "cell_type": "code",
   "execution_count": 38,
   "id": "f3da5483",
   "metadata": {},
   "outputs": [],
   "source": [
    "# Your code here\n",
    "import numpy as np\n",
    "import pandas as pd\n",
    "import statsmodels.api as sm\n",
    "\n",
    "# Load the iris dataset\n",
    "iris = sm.datasets.get_rdataset('iris', 'datasets')\n",
    "df = pd.DataFrame(iris.data)\n",
    "\n",
    "# Define the alpha_func\n",
    "def alpha_func(D, idx):\n",
    "    sepal_width_col = 'Sepal.Width'\n",
    "    sepal_length_col = 'Sepal.Length'\n",
    "    \n",
    "    if sepal_width_col not in D.columns or sepal_length_col not in D.columns:\n",
    "        raise KeyError(f\"The DataFrame does not contain '{sepal_width_col}' or '{sepal_length_col}' columns.\")\n",
    "    \n",
    "    alpha_values = []\n",
    "    for i in idx:\n",
    "        sepal_width = D.loc[i, sepal_width_col]\n",
    "        sepal_length = D.loc[i, sepal_length_col]\n",
    "        alpha = sepal_width / sepal_length\n",
    "        alpha_values.append(alpha)\n",
    "    \n",
    "    return alpha_values\n"
   ]
  },
  {
   "cell_type": "markdown",
   "id": "ff94d66b",
   "metadata": {},
   "source": [
    "Test the code below"
   ]
  },
  {
   "cell_type": "code",
   "execution_count": 39,
   "id": "eda715cd",
   "metadata": {},
   "outputs": [
    {
     "data": {
      "text/plain": [
       "[0.6862745098039216,\n",
       " 0.6122448979591836,\n",
       " 0.6808510638297872,\n",
       " 0.673913043478261,\n",
       " 0.72,\n",
       " 0.7222222222222222,\n",
       " 0.7391304347826088,\n",
       " 0.6799999999999999,\n",
       " 0.6590909090909091,\n",
       " 0.6326530612244897,\n",
       " 0.6851851851851851,\n",
       " 0.7083333333333334,\n",
       " 0.625,\n",
       " 0.6976744186046512,\n",
       " 0.6896551724137931,\n",
       " 0.7719298245614036,\n",
       " 0.7222222222222222,\n",
       " 0.6862745098039216,\n",
       " 0.6666666666666666,\n",
       " 0.7450980392156863,\n",
       " 0.6296296296296295,\n",
       " 0.7254901960784315,\n",
       " 0.782608695652174,\n",
       " 0.6470588235294118,\n",
       " 0.7083333333333334,\n",
       " 0.6,\n",
       " 0.6799999999999999,\n",
       " 0.673076923076923,\n",
       " 0.6538461538461539,\n",
       " 0.6808510638297872,\n",
       " 0.6458333333333334,\n",
       " 0.6296296296296295,\n",
       " 0.7884615384615383,\n",
       " 0.7636363636363637,\n",
       " 0.6326530612244897,\n",
       " 0.64,\n",
       " 0.6363636363636364,\n",
       " 0.7346938775510203,\n",
       " 0.6818181818181818,\n",
       " 0.6666666666666667,\n",
       " 0.7,\n",
       " 0.5111111111111111,\n",
       " 0.7272727272727273,\n",
       " 0.7,\n",
       " 0.7450980392156863,\n",
       " 0.625,\n",
       " 0.7450980392156863,\n",
       " 0.6956521739130436,\n",
       " 0.6981132075471699,\n",
       " 0.6599999999999999,\n",
       " 0.4571428571428572,\n",
       " 0.5,\n",
       " 0.4492753623188406,\n",
       " 0.41818181818181815,\n",
       " 0.43076923076923074,\n",
       " 0.49122807017543857,\n",
       " 0.5238095238095238,\n",
       " 0.48979591836734687,\n",
       " 0.4393939393939394,\n",
       " 0.5192307692307693,\n",
       " 0.4,\n",
       " 0.5084745762711864,\n",
       " 0.3666666666666667,\n",
       " 0.4754098360655738,\n",
       " 0.5178571428571429,\n",
       " 0.4626865671641791,\n",
       " 0.5357142857142857,\n",
       " 0.4655172413793104,\n",
       " 0.3548387096774194,\n",
       " 0.44642857142857145,\n",
       " 0.5423728813559322,\n",
       " 0.45901639344262296,\n",
       " 0.39682539682539686,\n",
       " 0.45901639344262296,\n",
       " 0.45312499999999994,\n",
       " 0.4545454545454546,\n",
       " 0.4117647058823529,\n",
       " 0.44776119402985076,\n",
       " 0.48333333333333334,\n",
       " 0.45614035087719296,\n",
       " 0.43636363636363634,\n",
       " 0.43636363636363634,\n",
       " 0.4655172413793104,\n",
       " 0.45,\n",
       " 0.5555555555555555,\n",
       " 0.5666666666666667,\n",
       " 0.4626865671641791,\n",
       " 0.36507936507936506,\n",
       " 0.5357142857142857,\n",
       " 0.45454545454545453,\n",
       " 0.4727272727272727,\n",
       " 0.49180327868852464,\n",
       " 0.4482758620689655,\n",
       " 0.45999999999999996,\n",
       " 0.4821428571428572,\n",
       " 0.5263157894736842,\n",
       " 0.5087719298245613,\n",
       " 0.46774193548387094,\n",
       " 0.4901960784313726,\n",
       " 0.49122807017543857]"
      ]
     },
     "execution_count": 39,
     "metadata": {},
     "output_type": "execute_result"
    }
   ],
   "source": [
    "alpha_func(df, range(100))"
   ]
  },
  {
   "cell_type": "markdown",
   "id": "f338b14e",
   "metadata": {},
   "source": [
    "_(ii)_ Construct a new bootstrap data set and recompute alpha"
   ]
  },
  {
   "cell_type": "code",
   "execution_count": 40,
   "id": "34ee835f",
   "metadata": {},
   "outputs": [],
   "source": [
    "def bootstrap_sample(D):\n",
    "    bootstrap_indices = np.random.choice(D.index, size=len(D), replace=True)\n",
    "    bootstrap_data = D.loc[bootstrap_indices].reset_index(drop=True)\n",
    "    return bootstrap_data\n",
    "\n",
    "# Create a bootstrap sample\n",
    "bootstrap_df = bootstrap_sample(df)\n",
    "\n",
    "# Recompute alpha for the bootstrap sample\n",
    "bootstrap_alpha_values = alpha_func(bootstrap_df, range(len(bootstrap_df)))\n"
   ]
  },
  {
   "cell_type": "markdown",
   "id": "056080ff-7aec-41aa-bb61-763b390e4cf2",
   "metadata": {},
   "source": [
    "Imagine we are analysts working for a shipping company. The company wants to know the average length of iris' petals, to inform space allotment on an upcoming shipment. The relevant variable in the dataset is `Sepal.Length`. \n",
    "\n",
    "_(iii)_ Why is it (perhaps) not sufficient to simply calculate the mean of `Sepal.Length`? What more information will preforming a bootstrap provide to us?  \n",
    "\n",
    "Calculating the mean of Sepal.Length provides a single point estimate of the average sepal length. However, this estimate does not convey any information about the variability or uncertainty associated with it. \n",
    "\n",
    "Boostrap is advantage because  allows us to: \n",
    "- estimate the variability of the sample mean by generating multiple bootstrap samples and calculating the mean for each sample.\n",
    "- It enables us to construct confidence intervals for the mean, providing a range of plausible values for the population mean\n",
    "- estimating the standard error of the mean, which indicates the reliability of the sample mean.\n",
    "- data distribution: we can gain insight into the underlying data distribution.\n",
    "\n",
    "_(iv)_ We can perform bootstrapping in Python by defining a simple function using `boot_SE()` for computing the bootstrap standard error. Remember, because bootstrapping involves randomness, we must first set a seed for reproducibility!"
   ]
  },
  {
   "cell_type": "code",
   "execution_count": 41,
   "id": "77540f76-7747-4dba-8e77-e1ded54af536",
   "metadata": {},
   "outputs": [
    {
     "name": "stdout",
     "output_type": "stream",
     "text": [
      "Bootstrap Standard Error for Alpha: 0.009253629333099573\n"
     ]
    }
   ],
   "source": [
    "# Add your code here to set the seed\n",
    "def boot_SE(data, num_bootstrap_samples=1000, random_seed=0):\n",
    "    np.random.seed(random_seed)  # Set the seed for reproducibility\n",
    "    bootstrap_means = []\n",
    "    \n",
    "    for _ in range(num_bootstrap_samples):\n",
    "        bootstrap_sample = np.random.choice(data, size=len(data), replace=True)\n",
    "        bootstrap_mean = np.mean(bootstrap_sample)\n",
    "        bootstrap_means.append(bootstrap_mean)\n",
    "    \n",
    "    bootstrap_means = np.array(bootstrap_means)\n",
    "    standard_error = np.std(bootstrap_means, ddof=1)\n",
    "    \n",
    "    return standard_error\n",
    "\n",
    "# Evaluate the accuracy of alpha estimate\n",
    "alpha_values = alpha_func(df, range(len(df)))\n",
    "bootstrap_standard_error_alpha = boot_SE(alpha_values, num_bootstrap_samples=1000, random_seed=0)\n",
    "print(f\"Bootstrap Standard Error for Alpha: {bootstrap_standard_error_alpha}\")\n"
   ]
  },
  {
   "cell_type": "markdown",
   "id": "8a543472",
   "metadata": {},
   "source": [
    "_(v)_ Evaluate the accuracy of our alpha estimate with B = 1000"
   ]
  },
  {
   "cell_type": "code",
   "execution_count": 42,
   "id": "9ed41c4e",
   "metadata": {},
   "outputs": [
    {
     "name": "stdout",
     "output_type": "stream",
     "text": [
      "Bootstrap Standard Error for Alpha: 0.009253629333099573\n"
     ]
    }
   ],
   "source": [
    "# Your code here\n",
    "def boot_SE(data, num_bootstrap_samples=1000, random_seed=0):\n",
    "    np.random.seed(random_seed)  # Set the seed for reproducibility\n",
    "    bootstrap_means = []\n",
    "    \n",
    "    for _ in range(num_bootstrap_samples):\n",
    "        bootstrap_sample = np.random.choice(data, size=len(data), replace=True)\n",
    "        bootstrap_mean = np.mean(bootstrap_sample)\n",
    "        bootstrap_means.append(bootstrap_mean)\n",
    "    \n",
    "    bootstrap_means = np.array(bootstrap_means)\n",
    "    standard_error = np.std(bootstrap_means, ddof=1)\n",
    "    \n",
    "    return standard_error\n",
    "\n",
    "# Evaluate the accuracy of alpha estimate\n",
    "alpha_values = alpha_func(df, range(len(df)))\n",
    "bootstrap_standard_error_alpha = boot_SE(alpha_values, num_bootstrap_samples=1000, random_seed=0)\n",
    "print(f\"Bootstrap Standard Error for Alpha: {bootstrap_standard_error_alpha}\")\n"
   ]
  },
  {
   "cell_type": "markdown",
   "id": "2e5e0c7f",
   "metadata": {},
   "source": [
    "_(vi)_ What is the original mean value of `Sepal.Length`?"
   ]
  },
  {
   "cell_type": "code",
   "execution_count": 43,
   "id": "7c9d5004",
   "metadata": {},
   "outputs": [
    {
     "name": "stdout",
     "output_type": "stream",
     "text": [
      "Original Mean Value of Sepal.Length: 5.843333333333334\n"
     ]
    }
   ],
   "source": [
    "# Your code here\n",
    "original_mean_sepal_length = df['Sepal.Length'].mean()\n",
    "print(f\"Original Mean Value of Sepal.Length: {original_mean_sepal_length}\")\n"
   ]
  },
  {
   "cell_type": "markdown",
   "id": "785fe758-f395-40b6-a9a3-28ec2efeba29",
   "metadata": {},
   "source": [
    "Next, let's create a new bootstrapping to bootstrap samples (`boot_se_samples`) of `Sepal.Length`, in order to compute its bootstrapped mean and standard deviation.\n",
    "\n",
    "_(vii)_. Write code to review the bootstrapped mean value, and the standard deviation of the bootstrapped samples. Compare the mean against its original value. Then, review the bootstrapped range, by using `t_range = np.ptp(boot_se_samples)`."
   ]
  },
  {
   "cell_type": "code",
   "execution_count": 44,
   "id": "7686243c",
   "metadata": {},
   "outputs": [
    {
     "name": "stdout",
     "output_type": "stream",
     "text": [
      "95% Confidence Interval for Sepal.Length Mean: (5.7166500000000005, 5.9719999999999995)\n"
     ]
    }
   ],
   "source": [
    "# Add your code here\n",
    "# Generate bootstrapped samples for Sepal.Length\n",
    "sepal_lengths = df['Sepal.Length'].values\n",
    "boot_se_samples = bootstrap_samples(sepal_lengths, num_bootstrap_samples=1000, random_seed=0)\n",
    "\n",
    "# Calculate the bootstrapped mean and standard deviation\n",
    "bootstrapped_means = boot_se_samples.mean(axis=1)\n",
    "bootstrapped_mean = bootstrapped_means.mean()\n",
    "bootstrapped_std = bootstrapped_means.std(ddof=1)\n",
    "\n",
    "# Compute the 95% confidence intervals for the bootstrapped means\n",
    "lower_bound = np.percentile(bootstrapped_means, 2.5)\n",
    "upper_bound = np.percentile(bootstrapped_means, 97.5)\n",
    "\n",
    "print(f\"95% Confidence Interval for Sepal.Length Mean: ({lower_bound}, {upper_bound})\")\n"
   ]
  },
  {
   "cell_type": "markdown",
   "id": "66c6c663-f3bb-4a15-8896-6dccfb7259fd",
   "metadata": {},
   "source": [
    "_(viii)_ Next, let's compute 95% confidence intervals, for the mean value of iris sepal length. (Hint: use the `np.percentile` function)"
   ]
  },
  {
   "cell_type": "code",
   "execution_count": 45,
   "id": "74de4a76-e500-4c93-82a9-e7365cc86c91",
   "metadata": {},
   "outputs": [
    {
     "data": {
      "image/png": "[encoded data removed]",
      "text/plain": [
       "<Figure size 640x480 with 1 Axes>"
      ]
     },
     "metadata": {},
     "output_type": "display_data"
    }
   ],
   "source": [
    "# Add your code here\n",
    "import matplotlib.pyplot as plt\n",
    "\n",
    "# Create a figure and axis for the histogram\n",
    "fig, ax = plt.subplots()\n",
    "\n",
    "# Create the histogram\n",
    "ax.hist(bootstrapped_means, bins=30, edgecolor='black')\n",
    "\n",
    "# Add a title\n",
    "ax.set_title('Histogram of Bootstrapped Means of Sepal.Length')\n",
    "\n",
    "# Add a label to the x-axis\n",
    "ax.set_xlabel('Bootstrapped Means')\n",
    "\n",
    "# Add a label to the y-axis\n",
    "ax.set_ylabel('Frequency')\n",
    "\n",
    "# Show the plot\n",
    "plt.show()\n"
   ]
  },
  {
   "cell_type": "markdown",
   "id": "488e54f7-ebe4-4740-835c-9832320005d0",
   "metadata": {},
   "source": [
    "_(ix)_. Use the plot function to create an histogram of the bootstrapped samples. What does this histogram show ?"
   ]
  },
  {
   "cell_type": "code",
   "execution_count": null,
   "id": "4fca4e3f",
   "metadata": {},
   "outputs": [],
   "source": [
    "#Complete this\n",
    "\n",
    "# Create a figure and axis\n",
    "fig, ax = plt.subplots()\n",
    "\n",
    "# Create the histogram\n",
    "#Add your code here\n",
    "\n",
    "# Add a title\n",
    "#Add your code here\n",
    "\n",
    "# Add a label to the x-axis\n",
    "#Add your code here\n",
    "\n",
    "# Add a label to the y-axis\n",
    "#Add your code here\n",
    "\n",
    "# Show the plot\n",
    "plt.show()"
   ]
  },
  {
   "cell_type": "markdown",
   "id": "bfa9a095-9c7a-4ab5-aa99-b11bf419fae0",
   "metadata": {},
   "source": [
    "_(x)_ Given your bootstrapped analysis, what do you recommend to shipping company? "
   ]
  },
  {
   "cell_type": "code",
   "execution_count": null,
   "id": "5e83202e-4aab-44bb-8586-5d0e82e9e201",
   "metadata": {},
   "outputs": [],
   "source": [
    "# Write your answer here\n",
    "'''Based on our analysis, we recommend planning for an average Sepal.Length of 5.8433 cm, with an upper bound consideration of 5.972 cm to account for variability. This ensures sufficient space for the irises during shipment, with a high degree of confidence in our estimates'''"
   ]
  },
  {
   "cell_type": "markdown",
   "id": "466943e8",
   "metadata": {},
   "source": [
    "# Criteria\n",
    "\n",
    "|Criteria            |Complete           |Incomplete          |\n",
    "|--------------------|---------------|--------------|\n",
    "|Bootstrapping|All steps are done correctly and the answers are correct.|At least one step is done incorrectly leading to a wrong answer.|"
   ]
  },
  {
   "cell_type": "markdown",
   "id": "68b8a226",
   "metadata": {},
   "source": [
    "## Submission Information\n",
    "\n",
    "🚨 **Please review our [Assignment Submission Guide](https://github.com/UofT-DSI/onboarding/blob/main/onboarding_documents/submissions.md)** 🚨 for detailed instructions on how to format, branch, and submit your work. Following these guidelines is crucial for your submissions to be evaluated correctly.\n",
    "\n",
    "### Note:\n",
    "\n",
    "If you like, you may collaborate with others in the cohort. If you choose to do so, please indicate with whom you have worked with in your pull request by tagging their GitHub username. Separate submissions are required.\n",
    "\n",
    "\n",
    "### Submission Parameters:\n",
    "* Submission Due Date: `HH:MM AM/PM - DD/MM/YYYY`\n",
    "* The branch name for your repo should be: `assignment-3`\n",
    "* What to submit for this assignment:\n",
    "    * This Jupyter Notebook (assignment_3.ipynb) should be populated and should be the only change in your pull request.\n",
    "* What the pull request link should look like for this assignment: `https://github.com/<your_github_username>/applying_statistical_concepts/pull/<pr_id>`\n",
    "    * Open a private window in your browser. Copy and paste the link to your pull request into the address bar. Make sure you can see your pull request properly. This helps the technical facilitator and learning support staff review your submission easily.\n",
    "\n",
    "Checklist:\n",
    "- [ ] Created a branch with the correct naming convention.\n",
    "- [ ] Ensured that the repository is public.\n",
    "- [ ] Reviewed the PR description guidelines and adhered to them.\n",
    "- [ ] Verify that the link is accessible in a private browser window.\n",
    "\n",
    "If you encounter any difficulties or have questions, please don't hesitate to reach out to our team via our Slack at `#cohort-3-help`. Our Technical Facilitators and Learning Support staff are here to help you navigate any challenges.\n"
   ]
  }
 ],
 "metadata": {
  "kernelspec": {
   "display_name": "Python 3.10.4",
   "language": "python",
   "name": "python3"
  },
  "language_info": {
   "codemirror_mode": {
    "name": "ipython",
    "version": 3
   },
   "file_extension": ".py",
   "mimetype": "text/x-python",
   "name": "python",
   "nbconvert_exporter": "python",
   "pygments_lexer": "ipython3",
   "version": "3.11.7"
  },
  "vscode": {
   "interpreter": {
    "hash": "497a84dc8fec8cf8d24e7e87b6d954c9a18a327edc66feb9b9ea7e9e72cc5c7e"
   }
  }
 },
 "nbformat": 4,
 "nbformat_minor": 5
}
